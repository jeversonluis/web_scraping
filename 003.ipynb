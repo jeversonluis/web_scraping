{
  "nbformat": 4,
  "nbformat_minor": 0,
  "metadata": {
    "colab": {
      "name": "003.ipynb",
      "provenance": [],
      "collapsed_sections": [],
      "authorship_tag": "ABX9TyO/k62ELR03BZ5/LvHt3QBn",
      "include_colab_link": true
    },
    "kernelspec": {
      "name": "python3",
      "display_name": "Python 3"
    }
  },
  "cells": [
    {
      "cell_type": "markdown",
      "metadata": {
        "id": "view-in-github",
        "colab_type": "text"
      },
      "source": [
        "<a href=\"https://colab.research.google.com/github/jeversonluis/web_scraping/blob/main/003.ipynb\" target=\"_parent\"><img src=\"https://colab.research.google.com/assets/colab-badge.svg\" alt=\"Open In Colab\"/></a>"
      ]
    },
    {
      "cell_type": "markdown",
      "metadata": {
        "id": "Pf7nT1qd0W5n"
      },
      "source": [
        "Returning the **h1** content of an **html** file on a web page using **BeautifulSoup** and handling possible errors with **HTTPError** and **AttributeError**."
      ]
    },
    {
      "cell_type": "code",
      "metadata": {
        "colab": {
          "base_uri": "https://localhost:8080/"
        },
        "id": "GCxHZEhNqUx5",
        "outputId": "0e640380-d4d7-4e73-fa6e-f45637757377"
      },
      "source": [
        "from urllib.request import urlopen\n",
        "from bs4 import BeautifulSoup\n",
        "from urllib.error import HTTPError\n",
        "\n",
        "def getTitle(url):\n",
        "  try:\n",
        "    html = urlopen(url)\n",
        "  except HTTPError as e:\n",
        "    return None\n",
        "  try:\n",
        "    bs = BeautifulSoup(html.read())\n",
        "    title = bs.body.h1\n",
        "  except AttributeError as e:\n",
        "    return None\n",
        "  return title\n",
        "\n",
        "title = getTitle(\"https://en.wikipedia.org/wiki/Main_Page\")   \n",
        "if title == None:\n",
        "  print(\"Title could not be found\")\n",
        "else:\n",
        "  print(title)"
      ],
      "execution_count": 9,
      "outputs": [
        {
          "output_type": "stream",
          "text": [
            "<h1 class=\"firstHeading\" id=\"firstHeading\" lang=\"en\">Main Page</h1>\n"
          ],
          "name": "stdout"
        }
      ]
    }
  ]
}
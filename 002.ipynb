{
  "nbformat": 4,
  "nbformat_minor": 0,
  "metadata": {
    "colab": {
      "name": "002.ipynb",
      "provenance": [],
      "collapsed_sections": []
    },
    "kernelspec": {
      "name": "python3",
      "display_name": "Python 3"
    }
  },
  "cells": [
    {
      "cell_type": "markdown",
      "metadata": {
        "id": "Jkn06h4M_o9n"
      },
      "source": [
        "Returning the h1 content of a web page's html file using \"BeautifulSoup\"."
      ]
    },
    {
      "cell_type": "code",
      "metadata": {
        "colab": {
          "base_uri": "https://localhost:8080/"
        },
        "id": "u3HLuj_V66UD",
        "outputId": "1d1f1615-0c3a-408a-dc71-41fcb6a84db0"
      },
      "source": [
        "from urllib.request import urlopen\n",
        "from bs4 import BeautifulSoup\n",
        "html = urlopen(\"https://en.wikipedia.org/wiki/Main_Page\")\n",
        "bs = BeautifulSoup(html.read())\n",
        "print(bs.h1)"
      ],
      "execution_count": 3,
      "outputs": [
        {
          "output_type": "stream",
          "text": [
            "<h1 class=\"firstHeading\" id=\"firstHeading\" lang=\"en\">Main Page</h1>\n"
          ],
          "name": "stdout"
        }
      ]
    }
  ]
}
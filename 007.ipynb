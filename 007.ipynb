{
  "nbformat": 4,
  "nbformat_minor": 0,
  "metadata": {
    "colab": {
      "name": "007.ipynb",
      "provenance": [],
      "collapsed_sections": [],
      "authorship_tag": "ABX9TyNPnp639CtNSppVFHh5J9cd",
      "include_colab_link": true
    },
    "kernelspec": {
      "name": "python3",
      "display_name": "Python 3"
    }
  },
  "cells": [
    {
      "cell_type": "markdown",
      "metadata": {
        "id": "view-in-github",
        "colab_type": "text"
      },
      "source": [
        "<a href=\"https://colab.research.google.com/github/jeversonluis/web_scraping/blob/main/007.ipynb\" target=\"_parent\"><img src=\"https://colab.research.google.com/assets/colab-badge.svg\" alt=\"Open In Colab\"/></a>"
      ]
    },
    {
      "cell_type": "markdown",
      "metadata": {
        "id": "Fc0AFQ8-ZKok"
      },
      "source": [
        "Dealing with your parents, code snippet that uses the function **parent.previous_sibling.get_text()**, to return information from a previous tag (parent)."
      ]
    },
    {
      "cell_type": "code",
      "metadata": {
        "colab": {
          "base_uri": "https://localhost:8080/"
        },
        "id": "MXOlUzeJ8M-6",
        "outputId": "06d8b1fd-1e79-44f5-e0ec-86ceb6eafcef"
      },
      "source": [
        "from urllib.request import urlopen\n",
        "from bs4 import BeautifulSoup\n",
        "\n",
        "html = urlopen(\"http://www.pythonscraping.com/pages/page3.html\")\n",
        "bsObj = BeautifulSoup(html)\n",
        "\n",
        "print(bsObj.find(\"img\",{\"src\":\"../img/gifts/img1.jpg\"\n",
        "}).parent.previous_sibling.get_text())"
      ],
      "execution_count": 7,
      "outputs": [
        {
          "output_type": "stream",
          "text": [
            "\n",
            "$15.00\n",
            "\n"
          ],
          "name": "stdout"
        }
      ]
    }
  ]
}
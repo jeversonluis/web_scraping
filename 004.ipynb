{
  "nbformat": 4,
  "nbformat_minor": 0,
  "metadata": {
    "colab": {
      "name": "004.ipynb",
      "provenance": [],
      "collapsed_sections": [],
      "authorship_tag": "ABX9TyNDDwxRixQELTQzTUBYgjRC",
      "include_colab_link": true
    },
    "kernelspec": {
      "name": "python3",
      "display_name": "Python 3"
    }
  },
  "cells": [
    {
      "cell_type": "markdown",
      "metadata": {
        "id": "view-in-github",
        "colab_type": "text"
      },
      "source": [
        "<a href=\"https://colab.research.google.com/github/jeversonluis/web_scraping/blob/main/004.ipynb\" target=\"_parent\"><img src=\"https://colab.research.google.com/assets/colab-badge.svg\" alt=\"Open In Colab\"/></a>"
      ]
    },
    {
      "cell_type": "markdown",
      "metadata": {
        "id": "lbQ6ZLNmvJCg"
      },
      "source": [
        "Getting a list of all tags with a specific **class name**, using **.findAll** and **.get_text()**"
      ]
    },
    {
      "cell_type": "code",
      "metadata": {
        "colab": {
          "base_uri": "https://localhost:8080/"
        },
        "id": "Wotxm6VeJKAc",
        "outputId": "c667b8f4-9132-4b1c-e974-a9440d2b92e6"
      },
      "source": [
        "from urllib.request import urlopen\n",
        "from bs4 import BeautifulSoup\n",
        "html = urlopen(\"https://en.wikipedia.org/wiki/Main_Page\")\n",
        "bsObj = BeautifulSoup(html)\n",
        "\n",
        "nameList = bsObj.findAll(\"span\", {\"class\":\"mw-headline\"})\n",
        "for name in nameList:\n",
        "  print(name.get_text())  "
      ],
      "execution_count": 6,
      "outputs": [
        {
          "output_type": "stream",
          "text": [
            "From today's featured article\n",
            "Did you know ...\n",
            "In the news\n",
            "On this day\n",
            "From today's featured list\n",
            "Today's featured picture\n",
            "Other areas of Wikipedia\n",
            "Wikipedia's sister projects\n",
            "Wikipedia languages\n"
          ],
          "name": "stdout"
        }
      ]
    }
  ]
}
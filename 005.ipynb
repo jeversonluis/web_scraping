{
  "nbformat": 4,
  "nbformat_minor": 0,
  "metadata": {
    "colab": {
      "name": "005.ipynb",
      "provenance": [],
      "collapsed_sections": [],
      "authorship_tag": "ABX9TyMyjadU6f4wxy/iMUQj9zs+",
      "include_colab_link": true
    },
    "kernelspec": {
      "name": "python3",
      "display_name": "Python 3"
    }
  },
  "cells": [
    {
      "cell_type": "markdown",
      "metadata": {
        "id": "view-in-github",
        "colab_type": "text"
      },
      "source": [
        "<a href=\"https://colab.research.google.com/github/jeversonluis/web_scraping/blob/main/005.ipynb\" target=\"_parent\"><img src=\"https://colab.research.google.com/assets/colab-badge.svg\" alt=\"Open In Colab\"/></a>"
      ]
    },
    {
      "cell_type": "markdown",
      "metadata": {
        "id": "jTlnSUi5vza3"
      },
      "source": [
        "This code prints a list of children from the specified div tag, using the **children()** function. If we use the **descendants()** function in place of the **children()** function, some other tags will be found in the table and printed. With that we can see the difference between the two functions."
      ]
    },
    {
      "cell_type": "code",
      "metadata": {
        "colab": {
          "base_uri": "https://localhost:8080/"
        },
        "id": "H1iYL7TQz7l0",
        "outputId": "78c45c09-788e-4383-c6c2-0a780ac74845"
      },
      "source": [
        "from urllib.request import urlopen\n",
        "from bs4 import BeautifulSoup\n",
        "\n",
        "html = urlopen(\"https://wordpress.com/\")\n",
        "bsObj = BeautifulSoup(html)\n",
        "\n",
        "for child in bsObj.find(\"div\",{\"class\":\"block-build-images-wrapper\"}).children:\n",
        "  print(child)"
      ],
      "execution_count": 5,
      "outputs": [
        {
          "output_type": "stream",
          "text": [
            "\n",
            "\n",
            "<div class=\"block-build-images grid grid-5 x-scroll-animation-theme-target\">\n",
            "<div class=\"\">\n",
            "<div class=\"lpc lpc-picture theme-ovation x-scroll-animation-theme-left-outer\" id=\"lpc-picture.4\">\n",
            "<div class=\"lpc-picture-wrapper\">\n",
            "<div class=\"lpc-picture-container\">\n",
            "<div class=\"lpc-picture-ratio\"></div>\n",
            "<div class=\"lpc-picture-fill\">\n",
            "<picture>\n",
            "<source media=\"(min-width: 481px)\" srcset=\"https://i1.wp.com/s1.wp.com/wp-content/themes/h4/landing/marketing/pages/hp-jan-2020-v2/media/desktop/theme-ovation.jpg?ssl=1 1x, https://i1.wp.com/s1.wp.com/wp-content/themes/h4/landing/marketing/pages/hp-jan-2020-v2/media/desktop/theme-ovation-2x.jpg?ssl=1 2x\"><source media=\"(min-width: 1px)\" srcset=\"https://i1.wp.com/s1.wp.com/wp-content/themes/h4/landing/marketing/pages/hp-jan-2020-v2/media/mobile/theme-ovation-m.jpg?ssl=1 1x, https://i1.wp.com/s1.wp.com/wp-content/themes/h4/landing/marketing/pages/hp-jan-2020-v2/media/mobile/theme-ovation-m-2x.jpg?ssl=1 2x\"><img alt=\"Ovation music theme layout\" class=\"lpc lpc-image\" id=\"lpc-image.5\" loading=\"lazy\" src=\"https://i1.wp.com/s1.wp.com/wp-content/themes/h4/landing/marketing/pages/hp-jan-2020-v2/media/desktop/theme-ovation.jpg?ssl=1\" title=\"\"/> </source></source></picture>\n",
            "</div>\n",
            "</div>\n",
            "</div>\n",
            "</div>\n",
            "</div>\n",
            "<div class=\"\">\n",
            "<div class=\"lpc lpc-picture theme-coutoire x-scroll-animation-theme-left-inner\" id=\"lpc-picture.5\">\n",
            "<div class=\"lpc-picture-wrapper\">\n",
            "<div class=\"lpc-picture-container\">\n",
            "<div class=\"lpc-picture-ratio\"></div>\n",
            "<div class=\"lpc-picture-fill\">\n",
            "<picture>\n",
            "<source media=\"(min-width: 481px)\" srcset=\"https://i1.wp.com/s1.wp.com/wp-content/themes/h4/landing/marketing/pages/hp-jan-2020-v2/media/desktop/theme-coutoire.jpg?ssl=1 1x, https://i1.wp.com/s1.wp.com/wp-content/themes/h4/landing/marketing/pages/hp-jan-2020-v2/media/desktop/theme-coutoire-2x.jpg?ssl=1 2x\"><source media=\"(min-width: 1px)\" srcset=\"https://i1.wp.com/s1.wp.com/wp-content/themes/h4/landing/marketing/pages/hp-jan-2020-v2/media/mobile/theme-coutoire-m.jpg?ssl=1 1x, https://i1.wp.com/s1.wp.com/wp-content/themes/h4/landing/marketing/pages/hp-jan-2020-v2/media/mobile/theme-coutoire-m-2x.jpg?ssl=1 2x\"><img alt=\"Couture fashion theme layout\" class=\"lpc lpc-image\" id=\"lpc-image.6\" loading=\"lazy\" src=\"https://i1.wp.com/s1.wp.com/wp-content/themes/h4/landing/marketing/pages/hp-jan-2020-v2/media/desktop/theme-coutoire.jpg?ssl=1\" title=\"\"/> </source></source></picture>\n",
            "</div>\n",
            "</div>\n",
            "</div>\n",
            "</div>\n",
            "</div>\n",
            "<div class=\"\">\n",
            "<div class=\"lpc lpc-picture theme-mayland x-scroll-animation-theme-center\" id=\"lpc-picture.6\">\n",
            "<div class=\"lpc-picture-wrapper\">\n",
            "<div class=\"lpc-picture-container\">\n",
            "<div class=\"lpc-picture-ratio\"></div>\n",
            "<div class=\"lpc-picture-fill\">\n",
            "<picture>\n",
            "<source media=\"(min-width: 481px)\" srcset=\"https://i1.wp.com/s1.wp.com/wp-content/themes/h4/landing/marketing/pages/hp-jan-2020-v2/media/desktop/theme-mayland.jpg?ssl=1 1x, https://i1.wp.com/s1.wp.com/wp-content/themes/h4/landing/marketing/pages/hp-jan-2020-v2/media/desktop/theme-mayland-2x.jpg?ssl=1 2x\"><source media=\"(min-width: 1px)\" srcset=\"https://i1.wp.com/s1.wp.com/wp-content/themes/h4/landing/marketing/pages/hp-jan-2020-v2/media/mobile/theme-mayland-m.jpg?ssl=1 1x, https://i1.wp.com/s1.wp.com/wp-content/themes/h4/landing/marketing/pages/hp-jan-2020-v2/media/mobile/theme-mayland-m-2x.jpg?ssl=1 2x\"><img alt=\"Mayland theme layout\" class=\"lpc lpc-image\" id=\"lpc-image.7\" loading=\"lazy\" src=\"https://i1.wp.com/s1.wp.com/wp-content/themes/h4/landing/marketing/pages/hp-jan-2020-v2/media/desktop/theme-mayland.jpg?ssl=1\" title=\"\"/> </source></source></picture>\n",
            "</div>\n",
            "</div>\n",
            "</div>\n",
            "</div>\n",
            "<div class=\"theme-rockfield-n-balasana grid grid-2\">\n",
            "<div class=\"lpc lpc-picture theme-rockfield x-scroll-animation-theme-center-left\" id=\"lpc-picture.7\">\n",
            "<div class=\"lpc-picture-wrapper\">\n",
            "<div class=\"lpc-picture-container\">\n",
            "<div class=\"lpc-picture-ratio\"></div>\n",
            "<div class=\"lpc-picture-fill\">\n",
            "<picture>\n",
            "<source media=\"(min-width: 481px)\" srcset=\"https://i1.wp.com/s1.wp.com/wp-content/themes/h4/landing/marketing/pages/hp-jan-2020-v2/media/desktop/theme-rockfield.jpg?ssl=1 1x, https://i1.wp.com/s1.wp.com/wp-content/themes/h4/landing/marketing/pages/hp-jan-2020-v2/media/desktop/theme-rockfield-2x.jpg?ssl=1 2x\"><source media=\"(min-width: 1px)\" srcset=\"https://i1.wp.com/s1.wp.com/wp-content/themes/h4/landing/marketing/pages/hp-jan-2020-v2/media/mobile/theme-rockfield-m.jpg?ssl=1 1x, https://i1.wp.com/s1.wp.com/wp-content/themes/h4/landing/marketing/pages/hp-jan-2020-v2/media/mobile/theme-rockfield-m-2x.jpg?ssl=1 2x\"><img alt=\"Rockfield restaurant theme layout\" class=\"lpc lpc-image\" id=\"lpc-image.8\" loading=\"lazy\" src=\"https://i1.wp.com/s1.wp.com/wp-content/themes/h4/landing/marketing/pages/hp-jan-2020-v2/media/desktop/theme-rockfield.jpg?ssl=1\" title=\"\"/> </source></source></picture>\n",
            "</div>\n",
            "</div>\n",
            "</div>\n",
            "</div>\n",
            "<div class=\"lpc lpc-picture theme-balasana x-scroll-animation-theme-center-right\" id=\"lpc-picture.8\">\n",
            "<div class=\"lpc-picture-wrapper\">\n",
            "<div class=\"lpc-picture-container\">\n",
            "<div class=\"lpc-picture-ratio\"></div>\n",
            "<div class=\"lpc-picture-fill\">\n",
            "<picture>\n",
            "<source media=\"(min-width: 481px)\" srcset=\"https://i1.wp.com/s1.wp.com/wp-content/themes/h4/landing/marketing/pages/hp-jan-2020-v2/media/desktop/theme-balasana.jpg?ssl=1 1x, https://i1.wp.com/s1.wp.com/wp-content/themes/h4/landing/marketing/pages/hp-jan-2020-v2/media/desktop/theme-balasana-2x.jpg?ssl=1 2x\"><source media=\"(min-width: 1px)\" srcset=\"https://i1.wp.com/s1.wp.com/wp-content/themes/h4/landing/marketing/pages/hp-jan-2020-v2/media/mobile/theme-balasana-m.jpg?ssl=1 1x, https://i1.wp.com/s1.wp.com/wp-content/themes/h4/landing/marketing/pages/hp-jan-2020-v2/media/mobile/theme-balasana-m-2x.jpg?ssl=1 2x\"><img alt=\"Balasana business theme layout\" class=\"lpc lpc-image\" id=\"lpc-image.9\" loading=\"lazy\" src=\"https://i1.wp.com/s1.wp.com/wp-content/themes/h4/landing/marketing/pages/hp-jan-2020-v2/media/desktop/theme-balasana.jpg?ssl=1\" title=\"\"/> </source></source></picture>\n",
            "</div>\n",
            "</div>\n",
            "</div>\n",
            "</div>\n",
            "</div>\n",
            "</div>\n",
            "<div class=\"\">\n",
            "<div class=\"lpc lpc-picture theme-rivington x-scroll-animation-theme-right-inner\" id=\"lpc-picture.9\">\n",
            "<div class=\"lpc-picture-wrapper\">\n",
            "<div class=\"lpc-picture-container\">\n",
            "<div class=\"lpc-picture-ratio\"></div>\n",
            "<div class=\"lpc-picture-fill\">\n",
            "<picture>\n",
            "<source media=\"(min-width: 481px)\" srcset=\"https://i1.wp.com/s1.wp.com/wp-content/themes/h4/landing/marketing/pages/hp-jan-2020-v2/media/desktop/theme-rivington.jpg?ssl=1 1x, https://i1.wp.com/s1.wp.com/wp-content/themes/h4/landing/marketing/pages/hp-jan-2020-v2/media/desktop/theme-rivington-2x.jpg?ssl=1 2x\"><source media=\"(min-width: 1px)\" srcset=\"https://i1.wp.com/s1.wp.com/wp-content/themes/h4/landing/marketing/pages/hp-jan-2020-v2/media/mobile/theme-rivington-m.jpg?ssl=1 1x, https://i1.wp.com/s1.wp.com/wp-content/themes/h4/landing/marketing/pages/hp-jan-2020-v2/media/mobile/theme-rivington-m-2x.jpg?ssl=1 2x\"><img alt=\"Rivington real estate theme layout\" class=\"lpc lpc-image\" id=\"lpc-image.10\" loading=\"lazy\" src=\"https://i1.wp.com/s1.wp.com/wp-content/themes/h4/landing/marketing/pages/hp-jan-2020-v2/media/desktop/theme-rivington.jpg?ssl=1\" title=\"\"/> </source></source></picture>\n",
            "</div>\n",
            "</div>\n",
            "</div>\n",
            "</div>\n",
            "</div>\n",
            "<div class=\"\">\n",
            "<div class=\"lpc lpc-picture theme-dalston x-scroll-animation-theme-right-outer\" id=\"lpc-picture.10\">\n",
            "<div class=\"lpc-picture-wrapper\">\n",
            "<div class=\"lpc-picture-container\">\n",
            "<div class=\"lpc-picture-ratio\"></div>\n",
            "<div class=\"lpc-picture-fill\">\n",
            "<picture>\n",
            "<source media=\"(min-width: 481px)\" srcset=\"https://i1.wp.com/s1.wp.com/wp-content/themes/h4/landing/marketing/pages/hp-jan-2020-v2/media/desktop/theme-dalston.jpg?ssl=1 1x, https://i1.wp.com/s1.wp.com/wp-content/themes/h4/landing/marketing/pages/hp-jan-2020-v2/media/desktop/theme-dalston-2x.jpg?ssl=1 2x\"><source media=\"(min-width: 1px)\" srcset=\"https://i1.wp.com/s1.wp.com/wp-content/themes/h4/landing/marketing/pages/hp-jan-2020-v2/media/mobile/theme-dalston-m.jpg?ssl=1 1x, https://i1.wp.com/s1.wp.com/wp-content/themes/h4/landing/marketing/pages/hp-jan-2020-v2/media/mobile/theme-dalston-m-2x.jpg?ssl=1 2x\"><img alt=\"Dalston personal portfolio theme layout\" class=\"lpc lpc-image\" id=\"lpc-image.11\" loading=\"lazy\" src=\"https://i1.wp.com/s1.wp.com/wp-content/themes/h4/landing/marketing/pages/hp-jan-2020-v2/media/desktop/theme-dalston.jpg?ssl=1\" title=\"\"/> </source></source></picture>\n",
            "</div>\n",
            "</div>\n",
            "</div>\n",
            "</div>\n",
            "</div>\n",
            "</div>\n",
            "\n",
            "\n"
          ],
          "name": "stdout"
        }
      ]
    }
  ]
}